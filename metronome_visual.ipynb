{
 "cells": [
  {
   "cell_type": "code",
   "execution_count": 1,
   "metadata": {},
   "outputs": [
    {
     "name": "stdout",
     "output_type": "stream",
     "text": [
      "pygame 2.6.0 (SDL 2.28.4, Python 3.9.6)\n",
      "Hello from the pygame community. https://www.pygame.org/contribute.html\n"
     ]
    }
   ],
   "source": [
    "import time\n",
    "import pygame\n",
    "import numpy as np\n",
    "\n",
    "from metronome import p_func, interval_calc"
   ]
  },
  {
   "cell_type": "code",
   "execution_count": 2,
   "metadata": {},
   "outputs": [],
   "source": [
    "def metronome_visual(bpm_i, bpm_f, max_beats = 48, threshold_l = 16, threshold_h = 32, signal_time = 0.2): # Max beats needs to be higher than threshold_h\n",
    "      \n",
    "    n_beats = 1\n",
    "\n",
    "    # start pygame \n",
    "    pygame.init()\n",
    "    \n",
    "    #display window , pop up \n",
    "    screen_size = (400, 400)  \n",
    "    screen = pygame.display.set_mode(screen_size)\n",
    "    pygame.display.set_caption(\"Visual Metronome\")\n",
    "\n",
    "    # colors in RGB values \n",
    "    color_rest = (50, 50, 50)  # dark background \n",
    "    color_beat = (0, 255, 0)   # strong green \n",
    "\n",
    "    # circle parameters\n",
    "    circle_pos = (200, 200)  # Center of the screen\n",
    "    circle_radius = 50\n",
    "    \n",
    "    print(f\"Metronome started at {bpm_i} BPM. Press cmd + C to stop.\")\n",
    "\n",
    "    running = True \n",
    "\n",
    "\n",
    "    while n_beats < max_beats and running:\n",
    "        try:\n",
    "            for event in pygame.event.get():\n",
    "                if event.type == pygame.QUIT:\n",
    "                    running = False\n",
    "                if event.type == pygame.KEYDOWN:\n",
    "                    if event.key == pygame.K_ESCAPE:  # Use ESC key to stop\n",
    "                        running = False\n",
    "\n",
    "            p = p_func(n_beats, threshold_l, threshold_h)\n",
    "            interval = interval_calc(bpm_i, bpm_f, p)\n",
    "\n",
    "            # draw the background \n",
    "            screen.fill(color_rest)\n",
    "            pygame.draw.circle(screen, color_beat, circle_pos, circle_radius)\n",
    "            pygame.display.flip()  # Update the display\n",
    "\n",
    "            time.sleep(signal_time)\n",
    "\n",
    "            screen.fill(color_rest)\n",
    "            pygame.display.flip()   \n",
    "\n",
    "            time.sleep(interval)  # wait the interval \n",
    "\n",
    "            n_beats += 1\n",
    "\n",
    "        except KeyboardInterrupt:\n",
    "            print(\"\\nMetronome stopped.\")\n",
    "            break\n",
    "\n",
    "\n"
   ]
  },
  {
   "cell_type": "code",
   "execution_count": 3,
   "metadata": {},
   "outputs": [
    {
     "name": "stderr",
     "output_type": "stream",
     "text": [
      "2024-09-20 13:10:14.189 Python[21784:8175270] WARNING: Secure coding is automatically enabled for restorable state! However, not on all supported macOS versions of this application. Opt-in to secure coding explicitly by implementing NSApplicationDelegate.applicationSupportsSecureRestorableState:.\n"
     ]
    },
    {
     "name": "stdout",
     "output_type": "stream",
     "text": [
      "Metronome started at 20 BPM. Press cmd + C to stop.\n"
     ]
    },
    {
     "ename": "",
     "evalue": "",
     "output_type": "error",
     "traceback": [
      "\u001b[1;31mThe Kernel crashed while executing code in the current cell or a previous cell. \n",
      "\u001b[1;31mPlease review the code in the cell(s) to identify a possible cause of the failure. \n",
      "\u001b[1;31mClick <a href='https://aka.ms/vscodeJupyterKernelCrash'>here</a> for more info. \n",
      "\u001b[1;31mView Jupyter <a href='command:jupyter.viewOutput'>log</a> for further details."
     ]
    }
   ],
   "source": [
    "metronome_visual(20, 180)"
   ]
  },
  {
   "cell_type": "code",
   "execution_count": null,
   "metadata": {},
   "outputs": [],
   "source": []
  }
 ],
 "metadata": {
  "kernelspec": {
   "display_name": "Python 3",
   "language": "python",
   "name": "python3"
  },
  "language_info": {
   "codemirror_mode": {
    "name": "ipython",
    "version": 3
   },
   "file_extension": ".py",
   "mimetype": "text/x-python",
   "name": "python",
   "nbconvert_exporter": "python",
   "pygments_lexer": "ipython3",
   "version": "3.9.6"
  }
 },
 "nbformat": 4,
 "nbformat_minor": 2
}
