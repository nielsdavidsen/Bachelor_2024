{
 "cells": [
  {
   "cell_type": "code",
   "execution_count": 1,
   "metadata": {},
   "outputs": [],
   "source": [
    "import numpy as np\n",
    "import matplotlib.pyplot as plt"
   ]
  },
  {
   "cell_type": "code",
   "execution_count": null,
   "metadata": {},
   "outputs": [],
   "source": [
    "def synchronize_claps(time_met, freq_met, time_exp, freq_exp, clap_index=7):\n",
    "\n",
    "    # remove beep \n",
    "    min_index = np.argmin(freq_met)  # find index of the beep \n",
    "    time_met = time_met[min_index+1:]  # remove datapoint before beep \n",
    "    freq_met = freq_met[min_index+1:]\n",
    "    \n",
    "    # 8th clap \n",
    "    t_8_exp = time_exp[clap_index] \n",
    "    t_8_met = time_met[clap_index]  \n",
    "    \n",
    "    # shift   \n",
    "    time_diff = t_8_exp - t_8_met\n",
    "    time_met_shifted = time_met + time_diff  # shit metronome \n",
    "    \n",
    "    plt.figure(figsize=(8, 6))\n",
    "\n",
    "    plt.plot(time_met_shifted, freq_met, label='Metronome Frequencies', linestyle='--', marker='o')\n",
    "    plt.plot(time_exp, freq_exp, label='Experimental Frequencies', linestyle='--', marker='o')\n",
    "    plt.xlabel('Time (s)')\n",
    "    plt.ylabel('Frequency (Hz)')\n",
    "    plt.legend()\n",
    "    plt.grid(True)\n",
    "\n",
    "    plt.tight_layout()\n",
    "    plt.show()\n",
    "    \n",
    "    return time_met_shifted, time_exp"
   ]
  }
 ],
 "metadata": {
  "kernelspec": {
   "display_name": "Python 3",
   "language": "python",
   "name": "python3"
  },
  "language_info": {
   "codemirror_mode": {
    "name": "ipython",
    "version": 3
   },
   "file_extension": ".py",
   "mimetype": "text/x-python",
   "name": "python",
   "nbconvert_exporter": "python",
   "pygments_lexer": "ipython3",
   "version": "3.9.6"
  }
 },
 "nbformat": 4,
 "nbformat_minor": 2
}
